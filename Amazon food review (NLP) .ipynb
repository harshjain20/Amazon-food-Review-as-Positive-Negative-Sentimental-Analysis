{
 "cells": [
  {
   "cell_type": "code",
   "execution_count": 5,
   "id": "b1fa7071",
   "metadata": {},
   "outputs": [],
   "source": [
    "import pandas as pd\n",
    "import numpy as np"
   ]
  },
  {
   "cell_type": "code",
   "execution_count": 6,
   "id": "96a53565",
   "metadata": {},
   "outputs": [],
   "source": [
    "data = pd.read_csv('D:/projects/food review/Reviews.csv', header=0)"
   ]
  },
  {
   "cell_type": "code",
   "execution_count": 7,
   "id": "121f1bf6",
   "metadata": {},
   "outputs": [
    {
     "data": {
      "text/html": [
       "<div>\n",
       "<style scoped>\n",
       "    .dataframe tbody tr th:only-of-type {\n",
       "        vertical-align: middle;\n",
       "    }\n",
       "\n",
       "    .dataframe tbody tr th {\n",
       "        vertical-align: top;\n",
       "    }\n",
       "\n",
       "    .dataframe thead th {\n",
       "        text-align: right;\n",
       "    }\n",
       "</style>\n",
       "<table border=\"1\" class=\"dataframe\">\n",
       "  <thead>\n",
       "    <tr style=\"text-align: right;\">\n",
       "      <th></th>\n",
       "      <th>Id</th>\n",
       "      <th>ProductId</th>\n",
       "      <th>UserId</th>\n",
       "      <th>ProfileName</th>\n",
       "      <th>HelpfulnessNumerator</th>\n",
       "      <th>HelpfulnessDenominator</th>\n",
       "      <th>Score</th>\n",
       "      <th>Time</th>\n",
       "      <th>Summary</th>\n",
       "      <th>Text</th>\n",
       "    </tr>\n",
       "  </thead>\n",
       "  <tbody>\n",
       "    <tr>\n",
       "      <th>0</th>\n",
       "      <td>1</td>\n",
       "      <td>B001E4KFG0</td>\n",
       "      <td>A3SGXH7AUHU8GW</td>\n",
       "      <td>delmartian</td>\n",
       "      <td>1</td>\n",
       "      <td>1</td>\n",
       "      <td>5</td>\n",
       "      <td>1303862400</td>\n",
       "      <td>Good Quality Dog Food</td>\n",
       "      <td>I have bought several of the Vitality canned d...</td>\n",
       "    </tr>\n",
       "    <tr>\n",
       "      <th>1</th>\n",
       "      <td>2</td>\n",
       "      <td>B00813GRG4</td>\n",
       "      <td>A1D87F6ZCVE5NK</td>\n",
       "      <td>dll pa</td>\n",
       "      <td>0</td>\n",
       "      <td>0</td>\n",
       "      <td>1</td>\n",
       "      <td>1346976000</td>\n",
       "      <td>Not as Advertised</td>\n",
       "      <td>Product arrived labeled as Jumbo Salted Peanut...</td>\n",
       "    </tr>\n",
       "    <tr>\n",
       "      <th>2</th>\n",
       "      <td>3</td>\n",
       "      <td>B000LQOCH0</td>\n",
       "      <td>ABXLMWJIXXAIN</td>\n",
       "      <td>Natalia Corres \"Natalia Corres\"</td>\n",
       "      <td>1</td>\n",
       "      <td>1</td>\n",
       "      <td>4</td>\n",
       "      <td>1219017600</td>\n",
       "      <td>\"Delight\" says it all</td>\n",
       "      <td>This is a confection that has been around a fe...</td>\n",
       "    </tr>\n",
       "    <tr>\n",
       "      <th>3</th>\n",
       "      <td>4</td>\n",
       "      <td>B000UA0QIQ</td>\n",
       "      <td>A395BORC6FGVXV</td>\n",
       "      <td>Karl</td>\n",
       "      <td>3</td>\n",
       "      <td>3</td>\n",
       "      <td>2</td>\n",
       "      <td>1307923200</td>\n",
       "      <td>Cough Medicine</td>\n",
       "      <td>If you are looking for the secret ingredient i...</td>\n",
       "    </tr>\n",
       "    <tr>\n",
       "      <th>4</th>\n",
       "      <td>5</td>\n",
       "      <td>B006K2ZZ7K</td>\n",
       "      <td>A1UQRSCLF8GW1T</td>\n",
       "      <td>Michael D. Bigham \"M. Wassir\"</td>\n",
       "      <td>0</td>\n",
       "      <td>0</td>\n",
       "      <td>5</td>\n",
       "      <td>1350777600</td>\n",
       "      <td>Great taffy</td>\n",
       "      <td>Great taffy at a great price.  There was a wid...</td>\n",
       "    </tr>\n",
       "  </tbody>\n",
       "</table>\n",
       "</div>"
      ],
      "text/plain": [
       "   Id   ProductId          UserId                      ProfileName  \\\n",
       "0   1  B001E4KFG0  A3SGXH7AUHU8GW                       delmartian   \n",
       "1   2  B00813GRG4  A1D87F6ZCVE5NK                           dll pa   \n",
       "2   3  B000LQOCH0   ABXLMWJIXXAIN  Natalia Corres \"Natalia Corres\"   \n",
       "3   4  B000UA0QIQ  A395BORC6FGVXV                             Karl   \n",
       "4   5  B006K2ZZ7K  A1UQRSCLF8GW1T    Michael D. Bigham \"M. Wassir\"   \n",
       "\n",
       "   HelpfulnessNumerator  HelpfulnessDenominator  Score        Time  \\\n",
       "0                     1                       1      5  1303862400   \n",
       "1                     0                       0      1  1346976000   \n",
       "2                     1                       1      4  1219017600   \n",
       "3                     3                       3      2  1307923200   \n",
       "4                     0                       0      5  1350777600   \n",
       "\n",
       "                 Summary                                               Text  \n",
       "0  Good Quality Dog Food  I have bought several of the Vitality canned d...  \n",
       "1      Not as Advertised  Product arrived labeled as Jumbo Salted Peanut...  \n",
       "2  \"Delight\" says it all  This is a confection that has been around a fe...  \n",
       "3         Cough Medicine  If you are looking for the secret ingredient i...  \n",
       "4            Great taffy  Great taffy at a great price.  There was a wid...  "
      ]
     },
     "execution_count": 7,
     "metadata": {},
     "output_type": "execute_result"
    }
   ],
   "source": [
    "data.head()"
   ]
  },
  {
   "cell_type": "code",
   "execution_count": 8,
   "id": "dedaa0fc",
   "metadata": {},
   "outputs": [
    {
     "data": {
      "text/plain": [
       "43"
      ]
     },
     "execution_count": 8,
     "metadata": {},
     "output_type": "execute_result"
    }
   ],
   "source": [
    "data.isnull().sum().sum()"
   ]
  },
  {
   "cell_type": "code",
   "execution_count": 9,
   "id": "ad04f535",
   "metadata": {},
   "outputs": [],
   "source": [
    "data1 = data.dropna()"
   ]
  },
  {
   "cell_type": "code",
   "execution_count": 10,
   "id": "fe909cad",
   "metadata": {},
   "outputs": [
    {
     "data": {
      "text/html": [
       "<div>\n",
       "<style scoped>\n",
       "    .dataframe tbody tr th:only-of-type {\n",
       "        vertical-align: middle;\n",
       "    }\n",
       "\n",
       "    .dataframe tbody tr th {\n",
       "        vertical-align: top;\n",
       "    }\n",
       "\n",
       "    .dataframe thead th {\n",
       "        text-align: right;\n",
       "    }\n",
       "</style>\n",
       "<table border=\"1\" class=\"dataframe\">\n",
       "  <thead>\n",
       "    <tr style=\"text-align: right;\">\n",
       "      <th></th>\n",
       "      <th>Id</th>\n",
       "      <th>ProductId</th>\n",
       "      <th>UserId</th>\n",
       "      <th>ProfileName</th>\n",
       "      <th>HelpfulnessNumerator</th>\n",
       "      <th>HelpfulnessDenominator</th>\n",
       "      <th>Score</th>\n",
       "      <th>Time</th>\n",
       "      <th>Summary</th>\n",
       "      <th>Text</th>\n",
       "    </tr>\n",
       "  </thead>\n",
       "  <tbody>\n",
       "    <tr>\n",
       "      <th>29</th>\n",
       "      <td>30</td>\n",
       "      <td>B0001PB9FY</td>\n",
       "      <td>A3HDKO7OW0QNK4</td>\n",
       "      <td>Canadian Fan</td>\n",
       "      <td>1</td>\n",
       "      <td>1</td>\n",
       "      <td>5</td>\n",
       "      <td>1107820800</td>\n",
       "      <td>The Best Hot Sauce in the World</td>\n",
       "      <td>I don't know if it's the cactus or the tequila...</td>\n",
       "    </tr>\n",
       "    <tr>\n",
       "      <th>574</th>\n",
       "      <td>575</td>\n",
       "      <td>B000G6RYNE</td>\n",
       "      <td>A3PJZ8TU8FDQ1K</td>\n",
       "      <td>Jared Castle</td>\n",
       "      <td>2</td>\n",
       "      <td>2</td>\n",
       "      <td>5</td>\n",
       "      <td>1231718400</td>\n",
       "      <td>One bite and you'll become a \"chippoisseur\"</td>\n",
       "      <td>I'm addicted to salty and tangy flavors, so wh...</td>\n",
       "    </tr>\n",
       "    <tr>\n",
       "      <th>603</th>\n",
       "      <td>604</td>\n",
       "      <td>B000G6RYNE</td>\n",
       "      <td>A3PJZ8TU8FDQ1K</td>\n",
       "      <td>Jared Castle</td>\n",
       "      <td>1</td>\n",
       "      <td>1</td>\n",
       "      <td>5</td>\n",
       "      <td>1229385600</td>\n",
       "      <td>One bite and you'll become a \"chippoisseur\"</td>\n",
       "      <td>I'm addicted to salty and tangy flavors, so wh...</td>\n",
       "    </tr>\n",
       "    <tr>\n",
       "      <th>1973</th>\n",
       "      <td>1974</td>\n",
       "      <td>B0017165OG</td>\n",
       "      <td>A2EPNS38TTLZYN</td>\n",
       "      <td>tedebear</td>\n",
       "      <td>0</td>\n",
       "      <td>0</td>\n",
       "      <td>3</td>\n",
       "      <td>1312675200</td>\n",
       "      <td>Pok Chops</td>\n",
       "      <td>The pork chops from Omaha Steaks were very tas...</td>\n",
       "    </tr>\n",
       "    <tr>\n",
       "      <th>2309</th>\n",
       "      <td>2310</td>\n",
       "      <td>B0001VWE0M</td>\n",
       "      <td>AQM74O8Z4FMS0</td>\n",
       "      <td>Sunshine</td>\n",
       "      <td>0</td>\n",
       "      <td>0</td>\n",
       "      <td>2</td>\n",
       "      <td>1127606400</td>\n",
       "      <td>Below standard</td>\n",
       "      <td>Too much of the white pith on this orange peel...</td>\n",
       "    </tr>\n",
       "    <tr>\n",
       "      <th>...</th>\n",
       "      <td>...</td>\n",
       "      <td>...</td>\n",
       "      <td>...</td>\n",
       "      <td>...</td>\n",
       "      <td>...</td>\n",
       "      <td>...</td>\n",
       "      <td>...</td>\n",
       "      <td>...</td>\n",
       "      <td>...</td>\n",
       "      <td>...</td>\n",
       "    </tr>\n",
       "    <tr>\n",
       "      <th>568409</th>\n",
       "      <td>568410</td>\n",
       "      <td>B0018CLWM4</td>\n",
       "      <td>A2PE0AGWV6OPL7</td>\n",
       "      <td>Dark Water Mermaid</td>\n",
       "      <td>3</td>\n",
       "      <td>3</td>\n",
       "      <td>5</td>\n",
       "      <td>1309651200</td>\n",
       "      <td>Quality &amp; affordable food</td>\n",
       "      <td>I was very pleased with the ingredient quality...</td>\n",
       "    </tr>\n",
       "    <tr>\n",
       "      <th>568410</th>\n",
       "      <td>568411</td>\n",
       "      <td>B0018CLWM4</td>\n",
       "      <td>A88HLWDCU57WG</td>\n",
       "      <td>R28</td>\n",
       "      <td>2</td>\n",
       "      <td>2</td>\n",
       "      <td>5</td>\n",
       "      <td>1332979200</td>\n",
       "      <td>litter box</td>\n",
       "      <td>My main reason for the five star review has to...</td>\n",
       "    </tr>\n",
       "    <tr>\n",
       "      <th>568411</th>\n",
       "      <td>568412</td>\n",
       "      <td>B0018CLWM4</td>\n",
       "      <td>AUX1HSY8FX55S</td>\n",
       "      <td>DAW</td>\n",
       "      <td>1</td>\n",
       "      <td>1</td>\n",
       "      <td>5</td>\n",
       "      <td>1319500800</td>\n",
       "      <td>Happy Camper</td>\n",
       "      <td>I bought this to try on two registered Maine C...</td>\n",
       "    </tr>\n",
       "    <tr>\n",
       "      <th>568412</th>\n",
       "      <td>568413</td>\n",
       "      <td>B0018CLWM4</td>\n",
       "      <td>AVZ2OZ479Q9E8</td>\n",
       "      <td>Ai Ling Chow</td>\n",
       "      <td>0</td>\n",
       "      <td>0</td>\n",
       "      <td>5</td>\n",
       "      <td>1336435200</td>\n",
       "      <td>Two Siberians like it!</td>\n",
       "      <td>When we brought home two 3-month-old purebred ...</td>\n",
       "    </tr>\n",
       "    <tr>\n",
       "      <th>568413</th>\n",
       "      <td>568414</td>\n",
       "      <td>B0018CLWM4</td>\n",
       "      <td>AI3Y26HLPYW4L</td>\n",
       "      <td>kimosabe</td>\n",
       "      <td>1</td>\n",
       "      <td>2</td>\n",
       "      <td>2</td>\n",
       "      <td>1330041600</td>\n",
       "      <td>premium edge cat food</td>\n",
       "      <td>My cats don't like it. what else can I say to ...</td>\n",
       "    </tr>\n",
       "  </tbody>\n",
       "</table>\n",
       "<p>174846 rows × 10 columns</p>\n",
       "</div>"
      ],
      "text/plain": [
       "            Id   ProductId          UserId         ProfileName  \\\n",
       "29          30  B0001PB9FY  A3HDKO7OW0QNK4        Canadian Fan   \n",
       "574        575  B000G6RYNE  A3PJZ8TU8FDQ1K        Jared Castle   \n",
       "603        604  B000G6RYNE  A3PJZ8TU8FDQ1K        Jared Castle   \n",
       "1973      1974  B0017165OG  A2EPNS38TTLZYN            tedebear   \n",
       "2309      2310  B0001VWE0M   AQM74O8Z4FMS0            Sunshine   \n",
       "...        ...         ...             ...                 ...   \n",
       "568409  568410  B0018CLWM4  A2PE0AGWV6OPL7  Dark Water Mermaid   \n",
       "568410  568411  B0018CLWM4   A88HLWDCU57WG                 R28   \n",
       "568411  568412  B0018CLWM4   AUX1HSY8FX55S                 DAW   \n",
       "568412  568413  B0018CLWM4   AVZ2OZ479Q9E8        Ai Ling Chow   \n",
       "568413  568414  B0018CLWM4   AI3Y26HLPYW4L            kimosabe   \n",
       "\n",
       "        HelpfulnessNumerator  HelpfulnessDenominator  Score        Time  \\\n",
       "29                         1                       1      5  1107820800   \n",
       "574                        2                       2      5  1231718400   \n",
       "603                        1                       1      5  1229385600   \n",
       "1973                       0                       0      3  1312675200   \n",
       "2309                       0                       0      2  1127606400   \n",
       "...                      ...                     ...    ...         ...   \n",
       "568409                     3                       3      5  1309651200   \n",
       "568410                     2                       2      5  1332979200   \n",
       "568411                     1                       1      5  1319500800   \n",
       "568412                     0                       0      5  1336435200   \n",
       "568413                     1                       2      2  1330041600   \n",
       "\n",
       "                                            Summary  \\\n",
       "29                  The Best Hot Sauce in the World   \n",
       "574     One bite and you'll become a \"chippoisseur\"   \n",
       "603     One bite and you'll become a \"chippoisseur\"   \n",
       "1973                                      Pok Chops   \n",
       "2309                                 Below standard   \n",
       "...                                             ...   \n",
       "568409                    Quality & affordable food   \n",
       "568410                                   litter box   \n",
       "568411                                 Happy Camper   \n",
       "568412                       Two Siberians like it!   \n",
       "568413                        premium edge cat food   \n",
       "\n",
       "                                                     Text  \n",
       "29      I don't know if it's the cactus or the tequila...  \n",
       "574     I'm addicted to salty and tangy flavors, so wh...  \n",
       "603     I'm addicted to salty and tangy flavors, so wh...  \n",
       "1973    The pork chops from Omaha Steaks were very tas...  \n",
       "2309    Too much of the white pith on this orange peel...  \n",
       "...                                                   ...  \n",
       "568409  I was very pleased with the ingredient quality...  \n",
       "568410  My main reason for the five star review has to...  \n",
       "568411  I bought this to try on two registered Maine C...  \n",
       "568412  When we brought home two 3-month-old purebred ...  \n",
       "568413  My cats don't like it. what else can I say to ...  \n",
       "\n",
       "[174846 rows x 10 columns]"
      ]
     },
     "execution_count": 10,
     "metadata": {},
     "output_type": "execute_result"
    }
   ],
   "source": [
    "df_dup = data1[data1.duplicated(['Text'])]\n",
    "df_dup"
   ]
  },
  {
   "cell_type": "code",
   "execution_count": 11,
   "id": "c4181010",
   "metadata": {},
   "outputs": [],
   "source": [
    "data2= data1.drop_duplicates(subset=['Text'])"
   ]
  },
  {
   "cell_type": "code",
   "execution_count": 12,
   "id": "43ba0624",
   "metadata": {},
   "outputs": [
    {
     "data": {
      "text/plain": [
       "(393565, 10)"
      ]
     },
     "execution_count": 12,
     "metadata": {},
     "output_type": "execute_result"
    }
   ],
   "source": [
    "data2.shape"
   ]
  },
  {
   "cell_type": "code",
   "execution_count": 13,
   "id": "4f573ca6",
   "metadata": {},
   "outputs": [
    {
     "data": {
      "text/plain": [
       "Index(['Id', 'ProductId', 'UserId', 'ProfileName', 'HelpfulnessNumerator',\n",
       "       'HelpfulnessDenominator', 'Score', 'Time', 'Summary', 'Text'],\n",
       "      dtype='object')"
      ]
     },
     "execution_count": 13,
     "metadata": {},
     "output_type": "execute_result"
    }
   ],
   "source": [
    "data2.columns"
   ]
  },
  {
   "cell_type": "code",
   "execution_count": 14,
   "id": "e421736b",
   "metadata": {},
   "outputs": [],
   "source": [
    "data3 = data2.drop(['ProductId','UserId','ProfileName','HelpfulnessNumerator','HelpfulnessDenominator','Time'],axis=1)"
   ]
  },
  {
   "cell_type": "code",
   "execution_count": 15,
   "id": "b809c4dd",
   "metadata": {},
   "outputs": [],
   "source": [
    "def target(score):\n",
    "    if(score<3):\n",
    "        review=0\n",
    "    else:\n",
    "        review=1\n",
    "    return review"
   ]
  },
  {
   "cell_type": "code",
   "execution_count": 16,
   "id": "86509c35",
   "metadata": {},
   "outputs": [],
   "source": [
    "data3['Target']= data3['Score'].apply(target)"
   ]
  },
  {
   "cell_type": "code",
   "execution_count": 17,
   "id": "76804e04",
   "metadata": {},
   "outputs": [],
   "source": [
    "data3 = data3.drop('Score',axis=1)"
   ]
  },
  {
   "cell_type": "code",
   "execution_count": 18,
   "id": "240a29d0",
   "metadata": {},
   "outputs": [
    {
     "data": {
      "text/html": [
       "<div>\n",
       "<style scoped>\n",
       "    .dataframe tbody tr th:only-of-type {\n",
       "        vertical-align: middle;\n",
       "    }\n",
       "\n",
       "    .dataframe tbody tr th {\n",
       "        vertical-align: top;\n",
       "    }\n",
       "\n",
       "    .dataframe thead th {\n",
       "        text-align: right;\n",
       "    }\n",
       "</style>\n",
       "<table border=\"1\" class=\"dataframe\">\n",
       "  <thead>\n",
       "    <tr style=\"text-align: right;\">\n",
       "      <th></th>\n",
       "      <th>Id</th>\n",
       "      <th>Summary</th>\n",
       "      <th>Text</th>\n",
       "      <th>Target</th>\n",
       "    </tr>\n",
       "  </thead>\n",
       "  <tbody>\n",
       "    <tr>\n",
       "      <th>0</th>\n",
       "      <td>1</td>\n",
       "      <td>Good Quality Dog Food</td>\n",
       "      <td>I have bought several of the Vitality canned d...</td>\n",
       "      <td>1</td>\n",
       "    </tr>\n",
       "    <tr>\n",
       "      <th>1</th>\n",
       "      <td>2</td>\n",
       "      <td>Not as Advertised</td>\n",
       "      <td>Product arrived labeled as Jumbo Salted Peanut...</td>\n",
       "      <td>0</td>\n",
       "    </tr>\n",
       "    <tr>\n",
       "      <th>2</th>\n",
       "      <td>3</td>\n",
       "      <td>\"Delight\" says it all</td>\n",
       "      <td>This is a confection that has been around a fe...</td>\n",
       "      <td>1</td>\n",
       "    </tr>\n",
       "    <tr>\n",
       "      <th>3</th>\n",
       "      <td>4</td>\n",
       "      <td>Cough Medicine</td>\n",
       "      <td>If you are looking for the secret ingredient i...</td>\n",
       "      <td>0</td>\n",
       "    </tr>\n",
       "    <tr>\n",
       "      <th>4</th>\n",
       "      <td>5</td>\n",
       "      <td>Great taffy</td>\n",
       "      <td>Great taffy at a great price.  There was a wid...</td>\n",
       "      <td>1</td>\n",
       "    </tr>\n",
       "  </tbody>\n",
       "</table>\n",
       "</div>"
      ],
      "text/plain": [
       "   Id                Summary  \\\n",
       "0   1  Good Quality Dog Food   \n",
       "1   2      Not as Advertised   \n",
       "2   3  \"Delight\" says it all   \n",
       "3   4         Cough Medicine   \n",
       "4   5            Great taffy   \n",
       "\n",
       "                                                Text  Target  \n",
       "0  I have bought several of the Vitality canned d...       1  \n",
       "1  Product arrived labeled as Jumbo Salted Peanut...       0  \n",
       "2  This is a confection that has been around a fe...       1  \n",
       "3  If you are looking for the secret ingredient i...       0  \n",
       "4  Great taffy at a great price.  There was a wid...       1  "
      ]
     },
     "execution_count": 18,
     "metadata": {},
     "output_type": "execute_result"
    }
   ],
   "source": [
    "data3.head()"
   ]
  },
  {
   "cell_type": "code",
   "execution_count": 19,
   "id": "ef182ca0",
   "metadata": {},
   "outputs": [],
   "source": [
    "for i in range (0,len(data3)):\n",
    "    if(type(data3.iloc[i]['Text'])!=str):\n",
    "        data3.iloc[i]['Text'] = str(data3.iloc[i]['Text'])\n",
    "    "
   ]
  },
  {
   "cell_type": "code",
   "execution_count": 20,
   "id": "46c5b289",
   "metadata": {},
   "outputs": [
    {
     "data": {
      "text/plain": [
       "str"
      ]
     },
     "execution_count": 20,
     "metadata": {},
     "output_type": "execute_result"
    }
   ],
   "source": [
    "type(data3.iloc[10]['Text'])"
   ]
  },
  {
   "cell_type": "code",
   "execution_count": 21,
   "id": "40aecdd9",
   "metadata": {},
   "outputs": [],
   "source": [
    "if(type(data3.iloc[i]['Summary'])!=str):\n",
    "    data3.iloc[i]['Summary'] = str(data3.iloc[i]['Summary'])"
   ]
  },
  {
   "cell_type": "code",
   "execution_count": 22,
   "id": "da5c538e",
   "metadata": {},
   "outputs": [
    {
     "data": {
      "text/plain": [
       "str"
      ]
     },
     "execution_count": 22,
     "metadata": {},
     "output_type": "execute_result"
    }
   ],
   "source": [
    "type(data3.iloc[0]['Summary'])\n"
   ]
  },
  {
   "cell_type": "code",
   "execution_count": 23,
   "id": "aa699bfa",
   "metadata": {},
   "outputs": [],
   "source": [
    "data4 = data3.copy()"
   ]
  },
  {
   "cell_type": "code",
   "execution_count": 24,
   "id": "fec3c72c",
   "metadata": {},
   "outputs": [],
   "source": [
    "data4['combined'] = data3['Summary']+ ' ' + data3['Text']"
   ]
  },
  {
   "cell_type": "code",
   "execution_count": 25,
   "id": "9bf38aa6",
   "metadata": {},
   "outputs": [],
   "source": [
    "data4 = data4.drop(['Summary','Text'],axis=1)\n"
   ]
  },
  {
   "cell_type": "code",
   "execution_count": 26,
   "id": "c3983f97",
   "metadata": {},
   "outputs": [
    {
     "data": {
      "text/html": [
       "<div>\n",
       "<style scoped>\n",
       "    .dataframe tbody tr th:only-of-type {\n",
       "        vertical-align: middle;\n",
       "    }\n",
       "\n",
       "    .dataframe tbody tr th {\n",
       "        vertical-align: top;\n",
       "    }\n",
       "\n",
       "    .dataframe thead th {\n",
       "        text-align: right;\n",
       "    }\n",
       "</style>\n",
       "<table border=\"1\" class=\"dataframe\">\n",
       "  <thead>\n",
       "    <tr style=\"text-align: right;\">\n",
       "      <th></th>\n",
       "      <th>Id</th>\n",
       "      <th>Target</th>\n",
       "      <th>combined</th>\n",
       "    </tr>\n",
       "  </thead>\n",
       "  <tbody>\n",
       "    <tr>\n",
       "      <th>0</th>\n",
       "      <td>1</td>\n",
       "      <td>1</td>\n",
       "      <td>Good Quality Dog Food I have bought several of...</td>\n",
       "    </tr>\n",
       "    <tr>\n",
       "      <th>1</th>\n",
       "      <td>2</td>\n",
       "      <td>0</td>\n",
       "      <td>Not as Advertised Product arrived labeled as J...</td>\n",
       "    </tr>\n",
       "    <tr>\n",
       "      <th>2</th>\n",
       "      <td>3</td>\n",
       "      <td>1</td>\n",
       "      <td>\"Delight\" says it all This is a confection tha...</td>\n",
       "    </tr>\n",
       "    <tr>\n",
       "      <th>3</th>\n",
       "      <td>4</td>\n",
       "      <td>0</td>\n",
       "      <td>Cough Medicine If you are looking for the secr...</td>\n",
       "    </tr>\n",
       "    <tr>\n",
       "      <th>4</th>\n",
       "      <td>5</td>\n",
       "      <td>1</td>\n",
       "      <td>Great taffy Great taffy at a great price.  The...</td>\n",
       "    </tr>\n",
       "  </tbody>\n",
       "</table>\n",
       "</div>"
      ],
      "text/plain": [
       "   Id  Target                                           combined\n",
       "0   1       1  Good Quality Dog Food I have bought several of...\n",
       "1   2       0  Not as Advertised Product arrived labeled as J...\n",
       "2   3       1  \"Delight\" says it all This is a confection tha...\n",
       "3   4       0  Cough Medicine If you are looking for the secr...\n",
       "4   5       1  Great taffy Great taffy at a great price.  The..."
      ]
     },
     "execution_count": 26,
     "metadata": {},
     "output_type": "execute_result"
    }
   ],
   "source": [
    "data4.head()"
   ]
  },
  {
   "cell_type": "code",
   "execution_count": 27,
   "id": "95866490",
   "metadata": {},
   "outputs": [],
   "source": [
    "import nltk\n",
    "import string\n",
    "from nltk.corpus import stopwords"
   ]
  },
  {
   "cell_type": "code",
   "execution_count": 28,
   "id": "d2c1fada",
   "metadata": {},
   "outputs": [],
   "source": [
    "tokenize = nltk.tokenize.WhitespaceTokenizer()\n",
    "lemmatizer = nltk.stem.WordNetLemmatizer()"
   ]
  },
  {
   "cell_type": "code",
   "execution_count": 29,
   "id": "4cf12ddc",
   "metadata": {},
   "outputs": [
    {
     "data": {
      "text/plain": [
       "['i',\n",
       " 'me',\n",
       " 'my',\n",
       " 'myself',\n",
       " 'we',\n",
       " 'our',\n",
       " 'ours',\n",
       " 'ourselves',\n",
       " 'you',\n",
       " \"you're\",\n",
       " \"you've\",\n",
       " \"you'll\",\n",
       " \"you'd\",\n",
       " 'your',\n",
       " 'yours',\n",
       " 'yourself',\n",
       " 'yourselves',\n",
       " 'he',\n",
       " 'him',\n",
       " 'his',\n",
       " 'himself',\n",
       " 'she',\n",
       " \"she's\",\n",
       " 'her',\n",
       " 'hers',\n",
       " 'herself',\n",
       " 'it',\n",
       " \"it's\",\n",
       " 'its',\n",
       " 'itself',\n",
       " 'they',\n",
       " 'them',\n",
       " 'their',\n",
       " 'theirs',\n",
       " 'themselves',\n",
       " 'what',\n",
       " 'which',\n",
       " 'who',\n",
       " 'whom',\n",
       " 'this',\n",
       " 'that',\n",
       " \"that'll\",\n",
       " 'these',\n",
       " 'those',\n",
       " 'am',\n",
       " 'is',\n",
       " 'are',\n",
       " 'was',\n",
       " 'were',\n",
       " 'be',\n",
       " 'been',\n",
       " 'being',\n",
       " 'have',\n",
       " 'has',\n",
       " 'had',\n",
       " 'having',\n",
       " 'do',\n",
       " 'does',\n",
       " 'did',\n",
       " 'doing',\n",
       " 'a',\n",
       " 'an',\n",
       " 'the',\n",
       " 'and',\n",
       " 'but',\n",
       " 'if',\n",
       " 'or',\n",
       " 'because',\n",
       " 'as',\n",
       " 'until',\n",
       " 'while',\n",
       " 'of',\n",
       " 'at',\n",
       " 'by',\n",
       " 'for',\n",
       " 'with',\n",
       " 'about',\n",
       " 'against',\n",
       " 'between',\n",
       " 'into',\n",
       " 'through',\n",
       " 'during',\n",
       " 'before',\n",
       " 'after',\n",
       " 'above',\n",
       " 'below',\n",
       " 'to',\n",
       " 'from',\n",
       " 'up',\n",
       " 'down',\n",
       " 'in',\n",
       " 'out',\n",
       " 'on',\n",
       " 'off',\n",
       " 'over',\n",
       " 'under',\n",
       " 'again',\n",
       " 'further',\n",
       " 'then',\n",
       " 'once',\n",
       " 'here',\n",
       " 'there',\n",
       " 'when',\n",
       " 'where',\n",
       " 'why',\n",
       " 'how',\n",
       " 'all',\n",
       " 'any',\n",
       " 'both',\n",
       " 'each',\n",
       " 'few',\n",
       " 'more',\n",
       " 'most',\n",
       " 'other',\n",
       " 'some',\n",
       " 'such',\n",
       " 'no',\n",
       " 'nor',\n",
       " 'not',\n",
       " 'only',\n",
       " 'own',\n",
       " 'same',\n",
       " 'so',\n",
       " 'than',\n",
       " 'too',\n",
       " 'very',\n",
       " 's',\n",
       " 't',\n",
       " 'can',\n",
       " 'will',\n",
       " 'just',\n",
       " 'don',\n",
       " \"don't\",\n",
       " 'should',\n",
       " \"should've\",\n",
       " 'now',\n",
       " 'd',\n",
       " 'll',\n",
       " 'm',\n",
       " 'o',\n",
       " 're',\n",
       " 've',\n",
       " 'y',\n",
       " 'ain',\n",
       " 'aren',\n",
       " \"aren't\",\n",
       " 'couldn',\n",
       " \"couldn't\",\n",
       " 'didn',\n",
       " \"didn't\",\n",
       " 'doesn',\n",
       " \"doesn't\",\n",
       " 'hadn',\n",
       " \"hadn't\",\n",
       " 'hasn',\n",
       " \"hasn't\",\n",
       " 'haven',\n",
       " \"haven't\",\n",
       " 'isn',\n",
       " \"isn't\",\n",
       " 'ma',\n",
       " 'mightn',\n",
       " \"mightn't\",\n",
       " 'mustn',\n",
       " \"mustn't\",\n",
       " 'needn',\n",
       " \"needn't\",\n",
       " 'shan',\n",
       " \"shan't\",\n",
       " 'shouldn',\n",
       " \"shouldn't\",\n",
       " 'wasn',\n",
       " \"wasn't\",\n",
       " 'weren',\n",
       " \"weren't\",\n",
       " 'won',\n",
       " \"won't\",\n",
       " 'wouldn',\n",
       " \"wouldn't\"]"
      ]
     },
     "execution_count": 29,
     "metadata": {},
     "output_type": "execute_result"
    }
   ],
   "source": [
    "stop = stopwords.words('english')\n",
    "stop"
   ]
  },
  {
   "cell_type": "code",
   "execution_count": 41,
   "id": "7e27bef1",
   "metadata": {},
   "outputs": [],
   "source": [
    "class normalizer:\n",
    "    def normalize(txt):\n",
    "        txt = txt.lower()\n",
    "        txt = ''.join(i for i in txt if not i.isdigit())\n",
    "        for i in string.punctuation:\n",
    "            txt = txt.replace(i,'')\n",
    "        txt = ' '.join(word for word in txt.split() if word not in (stop))\n",
    "        txt = tokenize.tokenize(txt)\n",
    "        txt = [lemmatizer.lemmatize(w,'v') for w in txt]\n",
    "        return txt\n",
    "    "
   ]
  },
  {
   "cell_type": "code",
   "execution_count": 31,
   "id": "8f2d94be",
   "metadata": {},
   "outputs": [],
   "source": [
    "text = 'The 5 biggest stoping countries names by !population in 2017 are China, India, United States, Indonesia, and Brazil.'"
   ]
  },
  {
   "cell_type": "code",
   "execution_count": 32,
   "id": "9885d760",
   "metadata": {},
   "outputs": [],
   "source": [
    "trial = normalize(text)\n"
   ]
  },
  {
   "cell_type": "code",
   "execution_count": 33,
   "id": "83405c4e",
   "metadata": {},
   "outputs": [
    {
     "name": "stdout",
     "output_type": "stream",
     "text": [
      "['biggest', 'stop', 'countries', 'name', 'population', 'china', 'india', 'unite', 'state', 'indonesia', 'brazil']\n"
     ]
    }
   ],
   "source": [
    "print(trial)"
   ]
  },
  {
   "cell_type": "code",
   "execution_count": 34,
   "id": "8f36ffe5",
   "metadata": {},
   "outputs": [],
   "source": [
    "data5 = data4.copy()"
   ]
  },
  {
   "cell_type": "code",
   "execution_count": 35,
   "id": "627c741b",
   "metadata": {},
   "outputs": [],
   "source": [
    "data5 = data5.drop(['Id','Target'],axis=1)\n"
   ]
  },
  {
   "cell_type": "code",
   "execution_count": 36,
   "id": "a373e5e2",
   "metadata": {},
   "outputs": [
    {
     "data": {
      "text/html": [
       "<div>\n",
       "<style scoped>\n",
       "    .dataframe tbody tr th:only-of-type {\n",
       "        vertical-align: middle;\n",
       "    }\n",
       "\n",
       "    .dataframe tbody tr th {\n",
       "        vertical-align: top;\n",
       "    }\n",
       "\n",
       "    .dataframe thead th {\n",
       "        text-align: right;\n",
       "    }\n",
       "</style>\n",
       "<table border=\"1\" class=\"dataframe\">\n",
       "  <thead>\n",
       "    <tr style=\"text-align: right;\">\n",
       "      <th></th>\n",
       "      <th>combined</th>\n",
       "    </tr>\n",
       "  </thead>\n",
       "  <tbody>\n",
       "    <tr>\n",
       "      <th>0</th>\n",
       "      <td>Good Quality Dog Food I have bought several of...</td>\n",
       "    </tr>\n",
       "    <tr>\n",
       "      <th>1</th>\n",
       "      <td>Not as Advertised Product arrived labeled as J...</td>\n",
       "    </tr>\n",
       "    <tr>\n",
       "      <th>2</th>\n",
       "      <td>\"Delight\" says it all This is a confection tha...</td>\n",
       "    </tr>\n",
       "    <tr>\n",
       "      <th>3</th>\n",
       "      <td>Cough Medicine If you are looking for the secr...</td>\n",
       "    </tr>\n",
       "    <tr>\n",
       "      <th>4</th>\n",
       "      <td>Great taffy Great taffy at a great price.  The...</td>\n",
       "    </tr>\n",
       "  </tbody>\n",
       "</table>\n",
       "</div>"
      ],
      "text/plain": [
       "                                            combined\n",
       "0  Good Quality Dog Food I have bought several of...\n",
       "1  Not as Advertised Product arrived labeled as J...\n",
       "2  \"Delight\" says it all This is a confection tha...\n",
       "3  Cough Medicine If you are looking for the secr...\n",
       "4  Great taffy Great taffy at a great price.  The..."
      ]
     },
     "execution_count": 36,
     "metadata": {},
     "output_type": "execute_result"
    }
   ],
   "source": [
    "data5.head()"
   ]
  },
  {
   "cell_type": "code",
   "execution_count": null,
   "id": "9beda90c",
   "metadata": {},
   "outputs": [],
   "source": [
    "for i in range (0,len(data5)):\n",
    "    data5.iloc[i]['combined'] = normalize(data5.iloc[i]['combined'])"
   ]
  },
  {
   "cell_type": "code",
   "execution_count": null,
   "id": "251fba82",
   "metadata": {},
   "outputs": [],
   "source": [
    "data5.head()"
   ]
  },
  {
   "cell_type": "code",
   "execution_count": null,
   "id": "c72b9c46",
   "metadata": {},
   "outputs": [],
   "source": [
    "data5.columns = {'new'}"
   ]
  },
  {
   "cell_type": "code",
   "execution_count": null,
   "id": "51b70d89",
   "metadata": {},
   "outputs": [],
   "source": [
    "data6 = data4.join(data5)"
   ]
  },
  {
   "cell_type": "code",
   "execution_count": null,
   "id": "1d218036",
   "metadata": {},
   "outputs": [],
   "source": [
    "data6 =  data6.drop('combined',axis=1)"
   ]
  },
  {
   "cell_type": "code",
   "execution_count": null,
   "id": "8cb7af78",
   "metadata": {},
   "outputs": [],
   "source": [
    "data6.head()"
   ]
  },
  {
   "cell_type": "code",
   "execution_count": null,
   "id": "a0863a23",
   "metadata": {},
   "outputs": [],
   "source": [
    "df = data.Text"
   ]
  },
  {
   "cell_type": "code",
   "execution_count": null,
   "id": "41125329",
   "metadata": {},
   "outputs": [],
   "source": [
    "df1=df.to_string()"
   ]
  },
  {
   "cell_type": "code",
   "execution_count": null,
   "id": "98395e90",
   "metadata": {},
   "outputs": [],
   "source": [
    "df2 = normalize(df1)"
   ]
  },
  {
   "cell_type": "code",
   "execution_count": null,
   "id": "9f0c77ab",
   "metadata": {},
   "outputs": [],
   "source": [
    "import matplotlib.pyplot as plt\n",
    "from wordcloud import wordcloud"
   ]
  },
  {
   "cell_type": "code",
   "execution_count": null,
   "id": "3047f19d",
   "metadata": {},
   "outputs": [],
   "source": [
    "frequency_dist = nltk.FreqDist(df2)\n",
    "sorted(frequency_dist,key=frequency_dist.__getitem__, reverse=True)[0:30]\n",
    "large_words = dict([(k,v) for k,v in frequency_dist.items() if len(k)>2])\n",
    "frequency_dist = nltk.FreqDist(large_words)\n",
    "frequency_dist.plot(50,cumulative=False)\n",
    "from wordcloud import WordCloud\n",
    "wcloud = WordCloud().generate_from_frequencies(frequency_dist)\n",
    "plt.figure(figsize=(18, 8))\n",
    "\n",
    "plt.imshow(wcloud, interpolation='bilinear')\n",
    "plt.axis(\"off\"),(-0.5, 399.5, 199.5, -0.5)\n",
    "plt.show()"
   ]
  },
  {
   "cell_type": "code",
   "execution_count": null,
   "id": "95d66c82",
   "metadata": {},
   "outputs": [],
   "source": [
    "from  sklearn.model_selection import train_test_split"
   ]
  },
  {
   "cell_type": "code",
   "execution_count": null,
   "id": "1579d003",
   "metadata": {},
   "outputs": [],
   "source": [
    "\n",
    "Y = data6['Target']\n",
    "X = data6.drop('Target',axis=1)"
   ]
  },
  {
   "cell_type": "code",
   "execution_count": null,
   "id": "cd303db7",
   "metadata": {},
   "outputs": [],
   "source": [
    "x_train,x_test,y_train,y_test = train_test_split(X,Y,test_size=0.3,random_state=0)"
   ]
  },
  {
   "cell_type": "code",
   "execution_count": null,
   "id": "f5cd6fe4",
   "metadata": {},
   "outputs": [],
   "source": [
    "from sklearn.feature_extraction.text import CountVectorizer\n",
    "    "
   ]
  },
  {
   "cell_type": "code",
   "execution_count": null,
   "id": "e47856b8",
   "metadata": {},
   "outputs": [],
   "source": [
    "vectorize = CountVectorizer(ngram_range=(1,2))\n"
   ]
  },
  {
   "cell_type": "code",
   "execution_count": null,
   "id": "61afdfea",
   "metadata": {},
   "outputs": [],
   "source": [
    "x_train.head()"
   ]
  },
  {
   "cell_type": "code",
   "execution_count": null,
   "id": "9a4af45e",
   "metadata": {},
   "outputs": [],
   "source": [
    "def vectorizer(txt):\n",
    "    vectorize.fit_transform(txt)\n",
    "    return txt"
   ]
  },
  {
   "cell_type": "code",
   "execution_count": null,
   "id": "4286db34",
   "metadata": {},
   "outputs": [],
   "source": [
    "# vct = []\n",
    "# for i in range(0,len(x_train1)):\n",
    "#     vct.append(vectorizer(x_train1.iloc[i]['new']))"
   ]
  },
  {
   "cell_type": "code",
   "execution_count": null,
   "id": "a962971e",
   "metadata": {},
   "outputs": [],
   "source": [
    "len(x_train),len(x_test)"
   ]
  },
  {
   "cell_type": "code",
   "execution_count": null,
   "id": "6cba6d7d",
   "metadata": {},
   "outputs": [],
   "source": [
    "vec_train = []\n",
    "vec_test = []\n",
    "for i in range(0,275495):\n",
    "    vec.append(vectorize.fit_transform(x_train.iloc[i]['new']))\n"
   ]
  },
  {
   "cell_type": "code",
   "execution_count": null,
   "id": "687a3c52",
   "metadata": {},
   "outputs": [],
   "source": [
    "for i in range(0,118070):\n",
    "    vec.append(vectorize.fit_transform(x_test.iloc[i]['new']))\n"
   ]
  },
  {
   "cell_type": "code",
   "execution_count": null,
   "id": "0f618de8",
   "metadata": {},
   "outputs": [],
   "source": [
    "# vec_train"
   ]
  },
  {
   "cell_type": "code",
   "execution_count": null,
   "id": "9797a6f7",
   "metadata": {},
   "outputs": [],
   "source": [
    "from sklearn.linear_model import LogisticRegression\n",
    "from sklearn.metrics import accuracy_score"
   ]
  },
  {
   "cell_type": "code",
   "execution_count": null,
   "id": "ffe1b166",
   "metadata": {},
   "outputs": [],
   "source": [
    "model = LogisticRegression()"
   ]
  },
  {
   "cell_type": "code",
   "execution_count": null,
   "id": "1813024b",
   "metadata": {},
   "outputs": [],
   "source": [
    "model.fit(vec,y_train)"
   ]
  },
  {
   "cell_type": "code",
   "execution_count": null,
   "id": "6019c875",
   "metadata": {},
   "outputs": [],
   "source": [
    "pred = model.predict(vec_test)"
   ]
  },
  {
   "cell_type": "code",
   "execution_count": null,
   "id": "15a308bf",
   "metadata": {},
   "outputs": [],
   "source": [
    "performance = accuracy_score(pred,y_test)"
   ]
  },
  {
   "cell_type": "code",
   "execution_count": null,
   "id": "fa68c9eb",
   "metadata": {},
   "outputs": [],
   "source": []
  },
  {
   "cell_type": "code",
   "execution_count": null,
   "id": "694bc1af",
   "metadata": {},
   "outputs": [],
   "source": []
  },
  {
   "cell_type": "code",
   "execution_count": null,
   "id": "ac2ff39f",
   "metadata": {},
   "outputs": [],
   "source": []
  }
 ],
 "metadata": {
  "kernelspec": {
   "display_name": "Python 3",
   "language": "python",
   "name": "python3"
  },
  "language_info": {
   "codemirror_mode": {
    "name": "ipython",
    "version": 3
   },
   "file_extension": ".py",
   "mimetype": "text/x-python",
   "name": "python",
   "nbconvert_exporter": "python",
   "pygments_lexer": "ipython3",
   "version": "3.8.8"
  }
 },
 "nbformat": 4,
 "nbformat_minor": 5
}
